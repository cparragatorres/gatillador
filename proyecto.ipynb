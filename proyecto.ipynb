{
 "cells": [
  {
   "cell_type": "code",
   "execution_count": null,
   "metadata": {},
   "outputs": [],
   "source": [
    "# Celda 1\n",
    "# Importaciones estándar\n",
    "import os\n",
    "import time\n",
    "import logging\n",
    "from datetime import datetime\n",
    "\n",
    "# Librerías de terceros\n",
    "import pandas as pd\n",
    "import numpy as np\n",
    "from openpyxl import load_workbook\n",
    "from selenium import webdriver\n",
    "from selenium.webdriver.common.by import By\n",
    "from selenium.webdriver.support.ui import WebDriverWait\n",
    "from selenium.webdriver.support import expected_conditions as EC\n",
    "from selenium.common.exceptions import TimeoutException, ElementClickInterceptedException\n",
    "\n",
    "# Importaciones internas del proyecto\n",
    "from src.utils import configurar_logs, validar_numero, cargar_excel, normalizar_nombres_columnas, generar_mensaje_alerta\n",
    "from src.whatsapp import NotificarMensajeWhatsApp\n",
    "\n",
    "# Configurar logs solo si este archivo es el principal\n",
    "if __name__ == \"__main__\":\n",
    "    configurar_logs(log_file=\"whatsapp_message_sender.log\", log_to_console=True)\n",
    "\n",
    "# Ruta base del proyecto\n",
    "base_path = os.getcwd()\n",
    "\n",
    "# Nombre del compañero Cami\n",
    "# ---------------------------------------------------\n",
    "cami_nombre = \"Cristian\"\n",
    "# ---------------------------------------------------\n",
    "\n",
    "# Crear una instancia de la clase para enviar mensajes por WhatsApp\n",
    "# whatsapp = NotificarMensajeWhatsApp()"
   ]
  },
  {
   "cell_type": "code",
   "execution_count": null,
   "metadata": {},
   "outputs": [],
   "source": [
    "# Celda 2\n",
    "# Nombres de los archivos originales\n",
    "archivos_excel = {\n",
    "    \"directorio\": os.path.join(base_path, \"directorio.xlsx\"),\n",
    "    \"data\": os.path.join(base_path, \"data.xlsx\")\n",
    "}\n",
    "\n",
    "# Cargar los archivos Excel\n",
    "archivos_excel = {nombre: cargar_excel(ruta) for nombre, ruta in archivos_excel.items()}\n",
    "\n",
    "# Acceder a los DataFrames directamente\n",
    "df_directorio = archivos_excel[\"directorio\"]\n",
    "df_data_estaciones = archivos_excel[\"data\"]"
   ]
  },
  {
   "cell_type": "code",
   "execution_count": null,
   "metadata": {},
   "outputs": [],
   "source": [
    "# Celda 3\n",
    "# Normalizar nombres de columnas en todos los DataFrames\n",
    "df1 = normalizar_nombres_columnas(df_directorio)\n",
    "df2 = normalizar_nombres_columnas(df_data_estaciones)\n",
    "\n",
    "# Verificar resultado\n",
    "print(\"Columnas normalizadas de df1:\", df1.columns)\n",
    "print(\"Columnas normalizadas de df2:\", df2.columns)"
   ]
  },
  {
   "cell_type": "code",
   "execution_count": null,
   "metadata": {},
   "outputs": [],
   "source": [
    "# Celda 4\n",
    "# Unir los dos DataFrames en un solo tablero usando 'Estacion' como clave\n",
    "df_unido = pd.merge(df1, df2, on=\"id_pc\", how=\"inner\")\n",
    "\n",
    "# Mostrar las primeras filas del DataFrame unido\n",
    "print(\"DataFrame unido:\")\n",
    "display(df_unido)\n"
   ]
  },
  {
   "cell_type": "code",
   "execution_count": null,
   "metadata": {},
   "outputs": [],
   "source": [
    "# Celda 5\n",
    "# Reemplazar valores vacíos con NaN\n",
    "df_unido[\"promedio_de_cloro__mg_l_\"] = df_unido[\"promedio_de_cloro__mg_l_\"].replace(\"\", pd.NA)\n",
    "\n",
    "# Convertir a float\n",
    "df_unido[\"promedio_de_cloro__mg_l_\"] = pd.to_numeric(df_unido[\"promedio_de_cloro__mg_l_\"], errors=\"coerce\")\n",
    "\n",
    "# Redondear los valores a 4 decimales\n",
    "df_unido[\"promedio_de_cloro__mg_l_\"] = df_unido[\"promedio_de_cloro__mg_l_\"].round(4)\n",
    "\n",
    "# Definir condiciones para la columna 'estado'\n",
    "condiciones = [\n",
    "    df_unido[\"promedio_de_cloro__mg_l_\"].isna(),  # Si es NaN → \"inactivo\"\n",
    "    df_unido[\"promedio_de_cloro__mg_l_\"] < 0.5,  # Si es menor a 0.5 → \"inadecuado\"\n",
    "    df_unido[\"promedio_de_cloro__mg_l_\"] >= 0.5  # Si es mayor o igual a 0.5 → \"adecuado\"\n",
    "]\n",
    "\n",
    "# Mostrar solo el primer nombre del representante\n",
    "df_unido[\"representante\"] = df_unido[\"representante\"].str.split().str[0]\n",
    "\n",
    "# Definir valores\n",
    "valores = np.array([\"inactivo\", \"inadecuado\", \"adecuado\"], dtype=object)\n",
    "df_unido[\"estado\"] = np.select(condiciones, valores, default=\"desconocido\")\n",
    "\n",
    "# Columna \"Macro\" en orden alfabetico (A-Z)\n",
    "df_unido = df_unido.sort_values(by=\"macro\", ascending=True)\n",
    "\n",
    "# Verificación\n",
    "display(df_unido)\n"
   ]
  },
  {
   "cell_type": "code",
   "execution_count": null,
   "metadata": {},
   "outputs": [],
   "source": [
    "# Celda 6\n",
    "# Obtener la hora actual en formato HHMM (ej. 0920 o 1000)\n",
    "hora_actual = datetime.now().replace(second=0, microsecond=0).time()\n",
    "# hora_actual = datetime.strptime('09:00', '%H:%M').time()\n",
    "hora_formateada = hora_actual.strftime('%H%M')\n",
    "\n",
    "print(\"Hora_actual (HH:MM):\", hora_actual)\n",
    "\n",
    "# # Definir la carpeta de salida\n",
    "# output_dir = os.path.join(base_path, \"data_procesada\")\n",
    "# os.makedirs(output_dir, exist_ok=True)  # Crear carpeta si no existe\n",
    "\n",
    "# # Nombre del archivo con formato HHMM\n",
    "# nombre_archivo = f\"data_procesada_{hora_formateada}.xlsx\"\n",
    "# ruta_archivo = os.path.join(output_dir, nombre_archivo)\n",
    "\n",
    "# # Guardar el DataFrame en Excel\n",
    "# df_unido.to_excel(ruta_archivo, index=False)\n",
    "\n",
    "# print(f\"Archivo guardado en: {ruta_archivo}\")\n"
   ]
  },
  {
   "cell_type": "markdown",
   "metadata": {},
   "source": [
    "FILTROS"
   ]
  },
  {
   "cell_type": "code",
   "execution_count": null,
   "metadata": {},
   "outputs": [],
   "source": [
    "# Celda 7\n",
    "# Filtro 1\n",
    "# ---------------------------------------------------\n",
    "# cami_nombre = \"Cristian\"\n",
    "# ---------------------------------------------------\n",
    "df_filtrado = df_unido[df_unido[\"macro\"] == cami_nombre]\n",
    "\n",
    "# Mostrar resultado\n",
    "display(df_filtrado)  # Solo en Jupyter Notebook"
   ]
  },
  {
   "cell_type": "code",
   "execution_count": null,
   "metadata": {},
   "outputs": [],
   "source": [
    "# Celda 8\n",
    "# Filtro 2\n",
    "df_filtrado = df_filtrado[df_filtrado[\"estado\"] != \"adecuado\"]\n",
    "df_filtrado = df_filtrado[df_filtrado[\"estado\"] != \"inactivo\"]\n",
    "\n",
    "# Mostrar resultado\n",
    "display(df_filtrado)  # Solo en Jupyter Notebook"
   ]
  },
  {
   "cell_type": "code",
   "execution_count": null,
   "metadata": {},
   "outputs": [],
   "source": [
    "# Celda 9\n",
    "# Filtro 3\n",
    "\n",
    "# Convertir 'hora_inferior' y 'hora_superior' a datetime.time\n",
    "df_filtrado[\"hora_inferior_dt\"] = pd.to_datetime(df_filtrado[\"hora_inferior\"], format=\"%H:%M\").dt.time\n",
    "df_filtrado[\"hora_superior_dt\"] = pd.to_datetime(df_filtrado[\"hora_superior\"], format=\"%H:%M\").dt.time\n",
    "\n",
    "\n",
    "# Filtrar filas donde 'hora_inferior' <= 'hora_actual' <= 'hora_superior'\n",
    "df_filtrado = df_filtrado[hora_actual >= df_filtrado[\"hora_superior_dt\"]]\n",
    "\n",
    "# Eliminar columnas temporales después del filtrado\n",
    "df_filtrado = df_filtrado.drop(columns=[\"hora_inferior_dt\", \"hora_superior_dt\"])\n",
    "\n",
    "# Mostrar resultado\n",
    "display(df_filtrado)  # Para Jupyter Notebook\n"
   ]
  },
  {
   "cell_type": "code",
   "execution_count": null,
   "metadata": {},
   "outputs": [],
   "source": [
    "# df_filtrado.to_excel(f\"data_procesada/data_filtrada_{hora_formateada}.xlsx\", index=False)"
   ]
  },
  {
   "cell_type": "markdown",
   "metadata": {},
   "source": [
    "PREPARANDO GATILLADOR"
   ]
  },
  {
   "cell_type": "code",
   "execution_count": null,
   "metadata": {},
   "outputs": [],
   "source": [
    "# Celda 10 - Validar números de teléfono\n",
    "\n",
    "# Reemplazar el valor de 'telefono' por uno de prueba\n",
    "# df_filtrado[\"telefono\"] = \"+51925122591\"  # Asegurar formato correcto\n",
    "\n",
    "# Aplicar la función de validación en la columna 'telefono'\n",
    "df_filtrado[\"telefono_valido\"] = df_filtrado[\"telefono\"].apply(validar_numero)\n",
    "\n",
    "# Contar números válidos e inválidos\n",
    "num_validos = df_filtrado[\"telefono_valido\"].sum()\n",
    "num_invalidos = len(df_filtrado) - num_validos\n",
    "\n",
    "print(f\"📞 Números válidos: {num_validos}\")\n",
    "print(f\"❌ Números inválidos: {num_invalidos}\")"
   ]
  },
  {
   "cell_type": "code",
   "execution_count": null,
   "metadata": {},
   "outputs": [],
   "source": [
    "# Celda 11 - Filtrar solo teléfonos válidos\n",
    "\n",
    "# Filtrar solo las filas con teléfonos válidos\n",
    "df_validos = df_filtrado[df_filtrado[\"telefono_valido\"]].copy()\n",
    "\n",
    "# Extraer listas de teléfonos\n",
    "telefonos_validos = df_validos[\"telefono\"].tolist()\n",
    "\n",
    "print(f\"✅ Se han filtrado y validado {len(df_validos)} teléfonos del directorio.\")"
   ]
  },
  {
   "cell_type": "code",
   "execution_count": null,
   "metadata": {},
   "outputs": [],
   "source": [
    "# Celda 12 - Generar mensajes de alerta\n",
    "\n",
    "# Lista para almacenar los mensajes generados\n",
    "mensajes_validos = []\n",
    "\n",
    "# Iterar sobre el DataFrame filtrado y generar mensajes solo para teléfonos válidos\n",
    "for idx, row in df_filtrado[df_filtrado[\"telefono_valido\"]].iterrows():\n",
    "    mensaje = generar_mensaje_alerta(\n",
    "        telefono=row[\"telefono\"],\n",
    "        representante_estacion=row[\"representante\"],\n",
    "        cami_nombre=row[\"macro\"],\n",
    "        cami_sede=row[\"sede\"],\n",
    "        estado=row[\"estado\"],\n",
    "        estacion=row[\"estacion\"],\n",
    "        ultima_fecha=row.get(\"ultima_fecha\", \"\"),\n",
    "        hora_inferior=row[\"hora_inferior\"],\n",
    "        hora_superior=row[\"hora_superior\"],\n",
    "        nivel_cloro=row[\"promedio_de_cloro__mg_l_\"],\n",
    "        localidad=row.get(\"localidad\", \"\"),\n",
    "        departamento=row.get(\"departamento\", \"\")\n",
    "    )\n",
    "\n",
    "    # Agregar solo si el mensaje no es None\n",
    "    if mensaje:\n",
    "        mensajes_validos.append((row[\"telefono\"], mensaje))\n",
    "\n",
    "# Mostrar la cantidad de mensajes generados\n",
    "print(f\"📩 Total de mensajes generados: {len(mensajes_validos)}\")\n",
    "\n",
    "# Imprimir los primeros mensajes generados para verificación\n",
    "for i, (tel, texto) in enumerate(mensajes_validos):\n",
    "    print(f\"\\n📌 Mensaje {i+1} para {tel}:\")\n",
    "    print(texto)\n",
    "    print(\"------\")\n",
    "\n",
    "    # # Limitar impresión a los primeros 3 mensajes si hay muchos\n",
    "    # if i >= 2 and len(mensajes_validos) > 3:\n",
    "    #     print(f\"... y {len(mensajes_validos) - 3} mensajes más.\")\n",
    "    #     break\n"
   ]
  },
  {
   "cell_type": "code",
   "execution_count": null,
   "metadata": {},
   "outputs": [],
   "source": [
    "# Celda 13 - Enviar mensajes por WhatsApp Web\n",
    "# Extraer listas de teléfonos\n",
    "telefonos_validos = df_validos[\"telefono\"].tolist()\n",
    "# Inicializar el enviador de mensajes\n",
    "sender = NotificarMensajeWhatsApp()\n",
    "\n",
    "# 1. Inicializar la sesión de WhatsApp Web (solo una vez)\n",
    "if sender.iniciar_sesion():\n",
    "    print(\"✅ Sesión de WhatsApp Web inicializada correctamente.\")\n",
    "else:\n",
    "    print(\"❌ Error al inicializar la sesión de WhatsApp Web.\")\n",
    "\n",
    "# 2. Enviar mensajes en lote\n",
    "try:\n",
    "    # Enviar todos los mensajes válidos en lote\n",
    "    sender.enviar_mensajes_en_lote(telefonos_validos, [msg for _, msg in mensajes_validos])\n",
    "\n",
    "    # Mostrar números que fallaron si los hay\n",
    "    if sender.numeros_fallidos:\n",
    "        print(\"\\n🚨 Números que fallaron:\")\n",
    "        for tel, error in sender.numeros_fallidos:\n",
    "            print(f\"❌ {tel}: {error}\")\n",
    "finally:\n",
    "    # Cerrar sesión y liberar recursos\n",
    "    sender.cerrar()\n"
   ]
  }
 ],
 "metadata": {
  "kernelspec": {
   "display_name": "venv",
   "language": "python",
   "name": "python3"
  },
  "language_info": {
   "codemirror_mode": {
    "name": "ipython",
    "version": 3
   },
   "file_extension": ".py",
   "mimetype": "text/x-python",
   "name": "python",
   "nbconvert_exporter": "python",
   "pygments_lexer": "ipython3",
   "version": "3.10.11"
  }
 },
 "nbformat": 4,
 "nbformat_minor": 2
}
